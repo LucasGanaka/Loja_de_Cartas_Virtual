{
  "nbformat": 4,
  "nbformat_minor": 0,
  "metadata": {
    "colab": {
      "name": "PokeFulano.ipynb",
      "provenance": [],
      "collapsed_sections": [],
      "include_colab_link": true
    },
    "kernelspec": {
      "name": "python3",
      "display_name": "Python 3"
    }
  },
  "cells": [
    {
      "cell_type": "markdown",
      "metadata": {
        "id": "view-in-github",
        "colab_type": "text"
      },
      "source": [
        "<a href=\"https://colab.research.google.com/github/LucasGanaka/Loja_de_Cartas_Virtual/blob/main/PokeFulano.ipynb\" target=\"_parent\"><img src=\"https://colab.research.google.com/assets/colab-badge.svg\" alt=\"Open In Colab\"/></a>"
      ]
    },
    {
      "cell_type": "code",
      "metadata": {
        "id": "SNxUcaMUBlwG"
      },
      "source": [
        "class Pokemon():\n",
        "  def __init__(self, Id, URL, nome, raridade, serie, colecao):\n",
        "    self.Id = Id\n",
        "    self.URL = URL\n",
        "    self.nome = nome\n",
        "    self.raridade = raridade\n",
        "    self.serie = serie\n",
        "    self.colecao = colecao"
      ],
      "execution_count": null,
      "outputs": []
    },
    {
      "cell_type": "code",
      "metadata": {
        "id": "ih7NWmMnRDah"
      },
      "source": [
        "class PokemonDAO():\n",
        "  # visualiza as cartinhas\n",
        "  def PokemonCatchAll():\n",
        "    sql = sqlite3.connect(\"sqlite.db\")\n",
        "    cursor = sql.cursor()\n",
        "    cursor.execute('''SELECT * FROM CartasPok''')\n",
        "    cartas = []\n",
        "    for carta in cursor.fetchall():\n",
        "      cartas.append(Pokemon(carta[0], carta[1], carta[2], carta[3], carta[4], carta[5]))\n",
        "    sql.close()\n",
        "    return cartas\n",
        "\n",
        "  #update das cartinhas\n",
        "  def PokemonUpDate(coluna, update, nome):\n",
        "    conn = sqlite3.connect('sqlite.db')\n",
        "    cursor = conn.cursor()\n",
        "    cursor.execute(''' UPDATE CartasPok SET \"{}\" = \"{}\" WHERE nome == \"{}\"; '''.format(coluna, update, nome))\n",
        "    conn.commit()\n",
        "    conn.close()\n",
        "\n",
        "  # adiciona cartinhas \n",
        "  def PokemonAdd(Pokemon):\n",
        "    conn = sqlite3.connect('sqlite.db')\n",
        "    cursor = conn.cursor()\n",
        "    cursor.execute(''' INSERT INTO CartasPok VALUES (?,?,?,?,?,?);''', (Pokemon.Id, Pokemon.URL, Pokemon.nome, Pokemon.raridade, Pokemon.serie, Pokemon.colecao))\n",
        "    conn.commit()\n",
        "    conn.close()"
      ],
      "execution_count": null,
      "outputs": []
    },
    {
      "cell_type": "code",
      "metadata": {
        "id": "8Sl_TWScGQkX",
        "outputId": "a1107a80-ab4f-4b20-8200-d186b88c7dbd",
        "colab": {
          "base_uri": "https://localhost:8080/",
          "height": 340
        }
      },
      "source": [
        "# rodando o programa\n",
        "import sqlite3\n",
        "\n",
        "def menuzinho():\n",
        "  print('\\n1 - Mostrar cartas')\n",
        "  print('2 - Acrescentar cartas')\n",
        "  print('3 - Modificar cartas')\n",
        "  print('0 - Sair')\n",
        "  \n",
        "def CadastrarCarta():\n",
        "  Id = input('Id da carta: ')\n",
        "  URL  = input('Url da imagem: ')\n",
        "  nome = input('Nome da carta: ')\n",
        "  raridade = input('Raridade da carta: ')\n",
        "  serie = input('Série da carta: ')\n",
        "  colecao = input('Coleção da carta: ')\n",
        "  PokemonDAO.PokemonAdd( Pokemon(Id, URL, nome, raridade, serie, colecao))\n",
        "\n",
        "def Updatecarta():\n",
        "  nome = input('Digite o nome do pokemon que você deseja alterar: ')  \n",
        "  coluna = input('Digite o dado que deve ser alterado: ')  \n",
        "  update = input('Digite a alteração a ser feita: ')  \n",
        "  PokemonDAO.PokemonUpDate(coluna, update, nome)\n",
        "\n",
        "def PokemonMyDeck():\n",
        "  print(\"Deck: \")\n",
        "  print(\"%8s\\t%40s\\t%20s\\t%10s\\t%10s\\t%10s\" % (\"Id\", \"URL\", \"Nome\", \"Raridade\", \"Série\", \"Coleão\"))\n",
        "  for carta in PokemonDAO.PokemonCatchAll():\n",
        "    print(\"%8s\\t%40s\\t%20s\\t%10s\\t%10s\\t%10s\" % (carta.Id, carta.URL, carta.nome, carta.raridade, carta.serie, carta.colecao))\n",
        "\n",
        "euSouEterno = True\n",
        "\n",
        "while euSouEterno:\n",
        "  menuzinho()\n",
        "  choose = input()\n",
        "  if choose == '0':\n",
        "    euSouEterno = False\n",
        "  elif choose == '1':\n",
        "    PokemonMyDeck()\n",
        "  elif choose == '2':\n",
        "    CadastrarCarta()\n",
        "  elif choose == '3':\n",
        "    Updatecarta()"
      ],
      "execution_count": null,
      "outputs": [
        {
          "output_type": "stream",
          "text": [
            "\n",
            "1 - Mostrar cartas\n",
            "2 - Acrescentar cartas\n",
            "3 - Modificar cartas\n",
            "0 - Sair\n",
            "1\n",
            "Deck: \n",
            "      Id\t                                     URL\t                Nome\t  Raridade\t     Série\t    Coleão\n",
            "  pl4-71\t https://images.pokemontcg.io/pl4/71.png\t             Pikachu\t    Common\t  Platinum\t    Arceus\n",
            "   pl4-1\t  https://images.pokemontcg.io/pl4/1.png\t           Charizard\t Rare Holo\t  Platinum\t    Arceus\n",
            "  pl4-23\t https://images.pokemontcg.io/pl4/23.png\t             Omastar\t      Rare\t  Platinum\t    Arceus\n",
            "  pl1-10\t https://images.pokemontcg.io/pl1/10.png\t            Giratina\t Rare Holo\t  Platinum\t  Platinum\n",
            "   pl4-2\t  https://images.pokemontcg.io/pl4/2.png\t            Froslass\t Rare Holo\t  Platinum\t    Arceus\n",
            "\n",
            "1 - Mostrar cartas\n",
            "2 - Acrescentar cartas\n",
            "3 - Modificar cartas\n",
            "0 - Sair\n",
            "0\n"
          ],
          "name": "stdout"
        }
      ]
    }
  ]
}